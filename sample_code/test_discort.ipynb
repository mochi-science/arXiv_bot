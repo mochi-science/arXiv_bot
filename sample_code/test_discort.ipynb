{
 "cells": [
  {
   "cell_type": "code",
   "execution_count": 2,
   "metadata": {},
   "outputs": [],
   "source": [
    "from discord_webhook import DiscordWebhook\n",
    "import json\n",
    "\n",
    "url = json.load(open(\"webhook_url.json\"))[\"URL\"]\n",
    "\n",
    "webhook = DiscordWebhook(url=url, content=\"Webhook Message\")\n",
    "response = webhook.execute()"
   ]
  },
  {
   "cell_type": "code",
   "execution_count": null,
   "metadata": {},
   "outputs": [],
   "source": [
    "def send_message_to_discord(message: str, webhook_url: str):\n",
    "    \"\"\"Discordにメッセージを送信する\n",
    "\n",
    "    Args:\n",
    "        message (str): 送信するメッセージ\n",
    "        webhook_url (str): DiscordのWebhook URL\n",
    "\n",
    "    Returns:\n",
    "        response: webhookによるレスポンス\n",
    "    \"\"\"\n",
    "    # メッセージを送信\n",
    "    webhook = DiscordWebhook(url=url, content=message)\n",
    "    response = webhook.execute()\n",
    "\n",
    "    return response"
   ]
  }
 ],
 "metadata": {
  "kernelspec": {
   "display_name": ".venv",
   "language": "python",
   "name": "python3"
  },
  "language_info": {
   "codemirror_mode": {
    "name": "ipython",
    "version": 3
   },
   "file_extension": ".py",
   "mimetype": "text/x-python",
   "name": "python",
   "nbconvert_exporter": "python",
   "pygments_lexer": "ipython3",
   "version": "3.11.9"
  }
 },
 "nbformat": 4,
 "nbformat_minor": 2
}
